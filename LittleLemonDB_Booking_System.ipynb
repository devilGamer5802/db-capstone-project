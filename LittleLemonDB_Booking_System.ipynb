{
  "cells": [
    {
      "cell_type": "markdown",
      "metadata": {
        "id": "CyFBuIXnmwIy"
      },
      "source": [
        "**Establishing a Connection :**"
      ]
    },
    {
      "cell_type": "code",
      "execution_count": null,
      "metadata": {
        "id": "dEolLENnmwIy"
      },
      "outputs": [],
      "source": [
        "# Importing MySQL Connector/Python\n",
        "\n",
        "import mysql.connector as connector\n",
        "from mysql.connector import Error"
      ]
    },
    {
      "cell_type": "code",
      "execution_count": null,
      "metadata": {
        "id": "C3BbhkOimwIy",
        "outputId": "daf67f32-64e9-451e-ba5d-aa9f6cef2b46"
      },
      "outputs": [
        {
          "name": "stdout",
          "output_type": "stream",
          "text": [
            "Connection between MySQL and Python is established.\n",
            "\n"
          ]
        }
      ],
      "source": [
        "# Establishing connection between Python and MySQL database via connector API\n",
        "\n",
        "try:\n",
        "    connection=connector.connect(user=\"root\",password=\"\")\n",
        "except Error as er:\n",
        "    print(er.msg)\n",
        "\n",
        "print(\"Connection between MySQL and Python is established.\\n\")"
      ]
    },
    {
      "cell_type": "markdown",
      "metadata": {
        "id": "FKJE1TxGmwIz"
      },
      "source": [
        "**Creating a Cursor :**"
      ]
    },
    {
      "cell_type": "code",
      "execution_count": null,
      "metadata": {
        "id": "3coGf4E0mwIz",
        "outputId": "ced1d407-f408-42c4-b562-bb70e49c50e5"
      },
      "outputs": [
        {
          "name": "stdout",
          "output_type": "stream",
          "text": [
            "Cursor is created to communicate with the MySQL using Python.\n"
          ]
        }
      ],
      "source": [
        "# Creating cursor object to communicate with entire MySQL database\n",
        "\n",
        "cursor = connection.cursor()\n",
        "print(\"Cursor is created to communicate with the MySQL using Python.\")"
      ]
    },
    {
      "cell_type": "markdown",
      "metadata": {
        "id": "aLQkdz-omwIz"
      },
      "source": [
        "**Setting the Database for use :**"
      ]
    },
    {
      "cell_type": "code",
      "execution_count": null,
      "metadata": {
        "id": "BAAKxdQdmwIz",
        "outputId": "c97829a6-2bce-404e-e0bb-067b205d8620"
      },
      "outputs": [
        {
          "name": "stdout",
          "output_type": "stream",
          "text": [
            "The database LittleLemonDB is set for use.\n"
          ]
        }
      ],
      "source": [
        "# Set LittleLemonDB database for use\n",
        "\n",
        "cursor.execute(\"USE LittleLemonDB\")\n",
        "connection.database\n",
        "print(\"The database LittleLemonDB is set for use.\")"
      ]
    },
    {
      "cell_type": "code",
      "execution_count": null,
      "metadata": {
        "id": "ka8rTJXEmwIz",
        "outputId": "d42cb199-d362-427f-ee2b-ef64452a1a91"
      },
      "outputs": [
        {
          "name": "stdout",
          "output_type": "stream",
          "text": [
            "('Tables_in_littlelemondb',)\n",
            "('Bookings',)\n",
            "('Customer',)\n",
            "('Delivery',)\n",
            "('Menu',)\n",
            "('MenuItems',)\n",
            "('Orders',)\n",
            "('ordersview',)\n",
            "('Staff',)\n"
          ]
        }
      ],
      "source": [
        "show_tables_query = \"SHOW TABLES;\"\n",
        "\n",
        "cursor.execute(show_tables_query)\n",
        "\n",
        "results=cursor.fetchall()\n",
        "\n",
        "columns=cursor.column_names\n",
        "\n",
        "print(columns)\n",
        "for result in results:\n",
        "    print(result)"
      ]
    },
    {
      "cell_type": "markdown",
      "metadata": {
        "id": "rRHT90ObmwIz"
      },
      "source": [
        "Creating Join Query"
      ]
    },
    {
      "cell_type": "code",
      "execution_count": null,
      "metadata": {
        "id": "A2xhf8oJmwI0"
      },
      "outputs": [],
      "source": [
        "join_query = \"\"\" SELECT Customer.FullName,\n",
        "Customer.ContactNumber,\n",
        "Customer.Email,\n",
        "Orders.TotalCost\n",
        "FROM Customer\n",
        "LEFT JOIN Orders\n",
        "ON Customer.CustomerID = Orders.CustomerID\n",
        "WHERE Orders.TotalCost > 60;\n",
        "\"\"\""
      ]
    },
    {
      "cell_type": "markdown",
      "metadata": {
        "id": "LEHFM35imwI0"
      },
      "source": [
        "Running the query by invoking execute module on the cursor."
      ]
    },
    {
      "cell_type": "code",
      "execution_count": null,
      "metadata": {
        "id": "FxU2riwVmwI0"
      },
      "outputs": [],
      "source": [
        "cursor.execute(join_query)"
      ]
    },
    {
      "cell_type": "markdown",
      "metadata": {
        "id": "HQu8U81smwI0"
      },
      "source": [
        "Fetching the results in a variable called \"results\"."
      ]
    },
    {
      "cell_type": "code",
      "execution_count": null,
      "metadata": {
        "id": "Hh1_5UUmmwI0"
      },
      "outputs": [],
      "source": [
        "results = cursor.fetchall()"
      ]
    },
    {
      "cell_type": "markdown",
      "metadata": {
        "id": "W4zB1dLMmwI0"
      },
      "source": [
        "Extracting the names of the columns."
      ]
    },
    {
      "cell_type": "code",
      "execution_count": null,
      "metadata": {
        "id": "8vE9MCPXmwI0"
      },
      "outputs": [],
      "source": [
        "columns=cursor.column_names"
      ]
    },
    {
      "cell_type": "markdown",
      "metadata": {
        "id": "K0GjDikdmwI0"
      },
      "source": [
        "Printing the names of the columns and the stored data using the \"for\" loop."
      ]
    },
    {
      "cell_type": "code",
      "execution_count": null,
      "metadata": {
        "id": "VJT9L1PEmwI0",
        "outputId": "c57d4177-0346-4e47-9572-58830c1d0433"
      },
      "outputs": [
        {
          "name": "stdout",
          "output_type": "stream",
          "text": [
            "('FullName', 'ContactNumber', 'Email', 'TotalCost')\n",
            "('Anna Iversen', '351786345', 'anna.i@outlook.com', Decimal('450.00'))\n",
            "('Vanessa McCarthy', '351579248', 'vanessa.m@gmail.com', Decimal('100.00'))\n",
            "('Joakim Iversen', '351986344', 'joakim.i@littlelemon.com', Decimal('780.00'))\n",
            "('Anna Iversen', '351786345', 'anna.i@outlook.com', Decimal('120.00'))\n"
          ]
        }
      ],
      "source": [
        "print(columns)\n",
        "for result in results:\n",
        "    print(result)"
      ]
    },
    {
      "cell_type": "markdown",
      "metadata": {
        "id": "8A0siYWUmwI0"
      },
      "source": [
        "Closing the Connection between Python and MySQL database."
      ]
    },
    {
      "cell_type": "code",
      "execution_count": null,
      "metadata": {
        "id": "EkroDVkumwI0",
        "outputId": "dd26c8fb-7b49-4cc8-b7cc-73444de75822"
      },
      "outputs": [
        {
          "name": "stdout",
          "output_type": "stream",
          "text": [
            "The cursor is closed.\n",
            "MySQL connection is closed.\n"
          ]
        }
      ],
      "source": [
        "if connection.is_connected():\n",
        "    cursor.close()\n",
        "    print(\"The cursor is closed.\")\n",
        "    connection.close()\n",
        "    print(\"MySQL connection is closed.\")\n",
        "else:\n",
        "    print(\"Connection is already closed\")"
      ]
    }
  ],
  "metadata": {
    "kernelspec": {
      "display_name": "base",
      "language": "python",
      "name": "python3"
    },
    "language_info": {
      "codemirror_mode": {
        "name": "ipython",
        "version": 3
      },
      "file_extension": ".py",
      "mimetype": "text/x-python",
      "name": "python",
      "nbconvert_exporter": "python",
      "pygments_lexer": "ipython3",
      "version": "3.10.9"
    },
    "orig_nbformat": 4,
    "colab": {
      "provenance": []
    }
  },
  "nbformat": 4,
  "nbformat_minor": 0
}